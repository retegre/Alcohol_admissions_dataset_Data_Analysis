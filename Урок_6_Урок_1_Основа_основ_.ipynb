{
  "nbformat": 4,
  "nbformat_minor": 0,
  "metadata": {
    "colab": {
      "name": "Урок 6. Урок 1. Основа основ - .ipynb",
      "provenance": [],
      "authorship_tag": "ABX9TyPBi5udaxSqB2Q3lzh40ik3",
      "include_colab_link": true
    },
    "kernelspec": {
      "name": "python3",
      "display_name": "Python 3"
    },
    "language_info": {
      "name": "python"
    }
  },
  "cells": [
    {
      "cell_type": "markdown",
      "metadata": {
        "id": "view-in-github",
        "colab_type": "text"
      },
      "source": [
        "<a href=\"https://colab.research.google.com/github/retegre/Alcohol_admissions_dataset_Data_Analysis/blob/main/%D0%A3%D1%80%D0%BE%D0%BA_6_%D0%A3%D1%80%D0%BE%D0%BA_1_%D0%9E%D1%81%D0%BD%D0%BE%D0%B2%D0%B0_%D0%BE%D1%81%D0%BD%D0%BE%D0%B2_.ipynb\" target=\"_parent\"><img src=\"https://colab.research.google.com/assets/colab-badge.svg\" alt=\"Open In Colab\"/></a>"
      ]
    },
    {
      "cell_type": "code",
      "execution_count": 4,
      "metadata": {
        "colab": {
          "base_uri": "https://localhost:8080/"
        },
        "id": "REZ_3-VMYuN2",
        "outputId": "3f241263-2d6e-43ae-fe42-3ef901cf16fc"
      },
      "outputs": [
        {
          "output_type": "stream",
          "name": "stdout",
          "text": [
            "Добро пожаловать Dayana ! Вы пришли к нам из города ABZ Ваш возраст 24 лет Вы успешно зарегестрировались на Almaty Marathon 2022!\n"
          ]
        }
      ],
      "source": [
        "name = \"Dayana\" \n",
        "city = \"ABZ\" \n",
        "age = \"24\" \n",
        "print (\"Добро пожаловать\", name, \"!\", \"Вы пришли к нам из города\", city, \"Ваш возраст\", age, \"лет\", \"Вы успешно зарегестрировались на Almaty Marathon 2022!\")\n",
        "\n",
        "\n",
        "\n",
        " \n",
        "\n",
        " \n"
      ]
    }
  ]
}